{
 "cells": [
  {
   "cell_type": "markdown",
   "execution_count": null,
   "metadata": {},
   "outputs": [],
   "source": [
    "# Image quality ranking example\n",
    "\n",
    "This is a simple example for using the image quality ranking functionality in MIPLIB. The principle is the same as in the [PyImageQualityRanking](https://github.com/sakoho81/pyimagequalityranking) package (1), but MIPLIB also contains some additional toys, e.g. Fourier Ring Correlation analysis (2) which makes it possible to expand the image quality calculation a little bit.\n",
    "\n",
    "As with the PyImageQualityRanking package you can alternatively use this functionality through a command line script. You can read more about that [here](https://github.com/sakoho81/pyimagequalityranking/wiki).\n",
    "\n",
    "---\n",
    "(1) Koho, Sami, Elnaz Fazeli, John E. Eriksson, and Pekka E. Hänninen. 2016. “Image Quality Ranking Method for Microscopy.” Scientific Reports 6 (July): 28962.\n",
    "\n",
    "(2) Koho, S. et al. Fourier ring correlation simplifies image restoration in fluorescence microscopy. Nat. Commun. 10 3103 (2019)."
   ]
  },
  {
   "cell_type": "code",
   "execution_count": null,
   "metadata": {},
   "outputs": [],
   "source": [
    "import os\n",
    "import pandas as pd\n",
    "import numpy as np\n",
    "\n",
    "import miplib.ui.cli.miplib_entry_point_options as opts\n",
    "\n",
    "from miplib.data.io import read\n",
    "import miplib.processing.image as imops\n",
    "from miplib.analysis.image_quality import image_quality_ranking as imq\n",
    "import miplib.data.iterators.fourier_ring_iterators as iterators\n",
    "\n",
    "# These are just needed to download the data from Figshare if not already available\n",
    "import urllib.request as dl\n",
    "import zipfile"
   ]
  },
  {
   "cell_type": "markdown",
   "execution_count": null,
   "metadata": {},
   "outputs": [],
   "source": [
    "## Setup\n",
    "\n",
    "Here I use the same command line options interface that is used in the *pyimq.main* script. Please refer to the Wiki, or ```pyimq.main --help``` for more details. "
   ]
  },
  {
   "cell_type": "code",
   "execution_count": null,
   "metadata": {},
   "outputs": [],
   "source": [
    "args_list = (\"--use-mask --normalize-power --bin-delta=1 \" \n",
    "             \" --resolution-threshold-criterion=fixed --frc-curve-fit-type=smooth-spline \").split()\n",
    "\n",
    "options = opts.get_quality_script_options(args_list)"
   ]
  },
  {
   "cell_type": "markdown",
   "execution_count": null,
   "metadata": {},
   "outputs": [],
   "source": [
    "Check that the data directory exists, and if not, download the data from Figshare"
   ]
  },
  {
   "cell_type": "code",
   "execution_count": null,
   "metadata": {},
   "outputs": [],
   "source": [
    "path = os.path.join(os.getcwd(), \"Image_Quality_Ranking_Data\")\n",
    "\n",
    "if not os.path.exists(path):\n",
    "    os.mkdir(path)\n",
    "    zip_path = os.path.join(path, \"images.zip\")\n",
    "    dl.urlretrieve(\"https://ndownloader.figshare.com/files/20749572\", zip_path)\n",
    "    with zipfile.ZipFile(zip_path, 'r') as zip_ref:\n",
    "        zip_ref.extractall(path)\n"
   ]
  },
  {
   "cell_type": "markdown",
   "execution_count": null,
   "metadata": {},
   "outputs": [],
   "source": [
    "## Run\n",
    "\n",
    "Now we are ready to run the script. "
   ]
  },
  {
   "cell_type": "code",
   "execution_count": null,
   "metadata": {},
   "outputs": [],
   "source": [
    "df = imq.batch_evaluate_image_quality(path, options)"
   ]
  },
  {
   "cell_type": "markdown",
   "execution_count": null,
   "metadata": {},
   "outputs": [],
   "source": [
    "## Evaluate\n",
    "\n",
    "The data is saved into a Pandas DataFrame. Let's first check what it looks like. There are only a few images in the dataset, so the default print will work. I would recommend *df.describe()* for anyting more involved."
   ]
  },
  {
   "cell_type": "code",
   "execution_count": null,
   "metadata": {},
   "outputs": [],
   "source": [
    "df"
   ]
  },
  {
   "cell_type": "markdown",
   "execution_count": null,
   "metadata": {},
   "outputs": [],
   "source": [
    "The *batch_evaluate_image_quality()* function does not normalize the numerical values to [0, 1], so you have to do that separately, if thats what you want. Here's an example for getting that done."
   ]
  },
  {
   "cell_type": "code",
   "execution_count": null,
   "metadata": {},
   "outputs": [],
   "source": [
    "df_norm = df.copy()\n",
    "df_norm.iloc[:, 1:] = df.iloc[:, 1:].subtract(df.iloc[:, 1:].min(), axis=1)\n",
    "df_norm.iloc[:, 1:] = df_norm.iloc[:, 1:].divide(df_norm.iloc[:, 1:].max(), axis=1)\n",
    "\n",
    "## The resolution has to be flipped around to make sense. Do the same, e.g. tp get the invfSTD measure \n",
    "df_norm[\"Resolution\"] = 1 - df_norm[\"Resolution\"]"
   ]
  },
  {
   "cell_type": "markdown",
   "execution_count": null,
   "metadata": {},
   "outputs": [],
   "source": [
    "## Utilize\n",
    "\n",
    "As a simple example here, I take a couple of parameters (Resolution and Spatial entropy) that are well known to correlate with image quality. Then I create a third parameter, by simply taking an average of the two. The images are clearly divided in two groups. On this normalized scale each paramter gets its maximum (best) value at 1."
   ]
  },
  {
   "cell_type": "code",
   "execution_count": null,
   "metadata": {},
   "outputs": [],
   "source": [
    "df_norm[\"Average\"] = (df_norm[\"tEntropy\"] + df_norm[\"Resolution\"]) / 2\n",
    "\n",
    "df_res = df_norm.sort_values(by=['Average']).reset_index(drop=True)\n",
    "df_res = df_res.loc[:, [\"Average\", \"Resolution\", \"tEntropy\"]]\n",
    "                            \n",
    "df_res.plot(subplots=True, layout=(1,3), figsize=(9,3))"
   ]
  },
  {
   "cell_type": "markdown",
   "execution_count": null,
   "metadata": {},
   "outputs": [],
   "source": [
    "So let's look, what does that mean. As it turns out, the ranking separates the two detectors that the data was acquired with. "
   ]
  },
  {
   "cell_type": "code",
   "execution_count": null,
   "metadata": {},
   "outputs": [],
   "source": [
    "pd.set_option('display.max_colwidth', -1)\n",
    "\n",
    "df_check = df_norm.sort_values(by=['Average']).reset_index(drop=True)\n",
    "df_check = df_check.loc[:, [\"Filename\", \"Average\", \"Resolution\", \"tEntropy\"]]\n",
    "\n",
    "df_check"
   ]
  }
 ],
 "metadata": {
  "anaconda-cloud": {},
  "kernelspec": {
   "display_name": "Python 3",
   "language": "python",
   "name": "python3"
  },
  "language_info": {
   "codemirror_mode": {
    "name": "ipython",
    "version": 3
   },
   "file_extension": ".py",
   "mimetype": "text/x-python",
   "name": "python",
   "nbconvert_exporter": "python",
   "pygments_lexer": "ipython3",
   "version": "3.6.9-final"
  }
 },
 "nbformat": 4,
 "nbformat_minor": 4
}